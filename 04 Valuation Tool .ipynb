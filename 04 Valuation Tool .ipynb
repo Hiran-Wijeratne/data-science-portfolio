{
 "cells": [
  {
   "cell_type": "code",
   "execution_count": 89,
   "id": "2f667b42-64d5-4099-887e-f721a2cca050",
   "metadata": {},
   "outputs": [],
   "source": [
    "from sklearn.linear_model import LinearRegression\n",
    "from sklearn.metrics import mean_squared_error\n",
    "\n",
    "import pandas as pd\n",
    "import numpy as np"
   ]
  },
  {
   "cell_type": "code",
   "execution_count": 90,
   "id": "6b95faba-40a5-4c67-a970-a79a65d5476f",
   "metadata": {},
   "outputs": [
    {
     "data": {
      "text/plain": [
       "(506, 1)"
      ]
     },
     "execution_count": 90,
     "metadata": {},
     "output_type": "execute_result"
    }
   ],
   "source": [
    "# Gather Data\n",
    "\n",
    "data_url = \"http://lib.stat.cmu.edu/datasets/boston\"\n",
    "raw_df = pd.read_csv(data_url, sep=r\"\\s+\", skiprows=22, header = None)\n",
    "np_data = np.hstack([raw_df.values[::2, :], raw_df.values[1::2, :2]])\n",
    "target = raw_df.values[1::2, 2] \n",
    "data = pd.DataFrame(np_data, columns=['CRIM', 'ZN', 'INDUS', 'CHAS', 'NOX', 'RM', 'AGE', 'DIS', 'RAD', 'TAX', 'PTRATIO','B','LSTAT'])\n",
    "data['PRICE'] = target\n",
    "features = data.drop(['INDUS', 'AGE', 'PRICE'], axis=1)\n",
    "\n",
    "log_prices = np.log(target)\n",
    "log_prices\n",
    "target = pd.DataFrame(log_prices, columns = ['PRICE'])\n",
    "target.shape"
   ]
  },
  {
   "cell_type": "code",
   "execution_count": 91,
   "id": "756c1a79-5f97-4c00-a33d-c7665028faaf",
   "metadata": {},
   "outputs": [],
   "source": [
    "CRIM_IDX = 0\n",
    "ZN_IDX = 1\n",
    "CHAS_IDX =2\n",
    "NOX_IDX = 3\n",
    "RM_IDX = 4\n",
    "DIS_IDX = 5\n",
    "RAD_IDX = 6\n",
    "TAX_IDX = 7\n",
    "PTRAIO_IDX = 8 \n",
    "B_IDX = 9\n",
    "LSTAT_IDX = 10\n",
    "property_stats = np.ndarray(shape = (1, 11))"
   ]
  },
  {
   "cell_type": "code",
   "execution_count": 92,
   "id": "12017abe-5181-4da0-af00-ee4e4b06e790",
   "metadata": {},
   "outputs": [
    {
     "data": {
      "text/plain": [
       "CRIM         3.613524\n",
       "ZN          11.363636\n",
       "CHAS         0.069170\n",
       "NOX          0.554695\n",
       "RM           6.284634\n",
       "DIS          3.795043\n",
       "RAD          9.549407\n",
       "TAX        408.237154\n",
       "PTRATIO     18.455534\n",
       "B          356.674032\n",
       "LSTAT       12.653063\n",
       "dtype: float64"
      ]
     },
     "execution_count": 92,
     "metadata": {},
     "output_type": "execute_result"
    }
   ],
   "source": [
    "features.mean()"
   ]
  },
  {
   "cell_type": "code",
   "execution_count": 93,
   "id": "5571b957-b888-44d4-9d22-5bec62e49cf7",
   "metadata": {},
   "outputs": [
    {
     "data": {
      "text/plain": [
       "array([[3.61352356e+00, 1.13636364e+01, 6.91699605e-02, 5.54695059e-01,\n",
       "        6.28463439e+00, 3.79504269e+00, 9.54940711e+00, 4.08237154e+02,\n",
       "        1.84555336e+01, 3.56674032e+02, 1.26530632e+01]])"
      ]
     },
     "execution_count": 93,
     "metadata": {},
     "output_type": "execute_result"
    }
   ],
   "source": [
    "features.mean().values.reshape(1,11)"
   ]
  },
  {
   "cell_type": "code",
   "execution_count": 94,
   "id": "e5c629b9-e50e-41f6-993f-e4a2082c58e6",
   "metadata": {},
   "outputs": [],
   "source": [
    "property_stats = features.mean().values.reshape(1,11)"
   ]
  },
  {
   "cell_type": "code",
   "execution_count": 95,
   "id": "cc7a6df0-3eb4-4761-b4f0-2a6359b9282a",
   "metadata": {},
   "outputs": [
    {
     "data": {
      "text/plain": [
       "0.18751213519713034"
      ]
     },
     "execution_count": 95,
     "metadata": {},
     "output_type": "execute_result"
    }
   ],
   "source": [
    "regr = LinearRegression().fit(features, target)\n",
    "fitted_vals = regr.predict(features)\n",
    "\n",
    "MSE = mean_squared_error(target, fitted_vals)\n",
    "RMSE = np.sqrt(MSE)\n",
    "RMSE"
   ]
  },
  {
   "cell_type": "code",
   "execution_count": 104,
   "id": "ac636a53-dd14-461f-9830-616200ef5895",
   "metadata": {},
   "outputs": [],
   "source": [
    "def get_log_estimate(nr_rooms, students_per_classroom, \n",
    "                     next_to_river=False, high_confidence=True):\n",
    "    # Configure property\n",
    "    property_stats[0][RM_IDX] = nr_rooms\n",
    "    property_stats[0][PTRAIO_IDX] = students_per_classroom\n",
    "    \n",
    "    if next_to_river:  # Corrected 'nex_to_river' to 'next_to_river'\n",
    "        property_stats[0][CHAS_IDX] = 1\n",
    "    else:\n",
    "        property_stats[0][CHAS_IDX] = 0\n",
    "    \n",
    "    # Make Predictions\n",
    "    log_estimate = regr.predict(property_stats)[0]  # Corrected variable name from 'Log_estimate' to 'log_estimate'\n",
    "    \n",
    "    # Calculate Range\n",
    "    if high_confidence:\n",
    "        upper_bound = log_estimate + 2 * RMSE  # 'RSME' should be defined elsewhere in your code\n",
    "        lower_bound = log_estimate - 2 * RMSE\n",
    "        interval = 95\n",
    "    else:\n",
    "        upper_bound = log_estimate + RMSE\n",
    "        lower_bound = log_estimate - RMSE\n",
    "        interval = 68\n",
    "    \n",
    "    return log_estimate, upper_bound, lower_bound, interval  # Corrected 'iterval' to 'interval'\n"
   ]
  },
  {
   "cell_type": "code",
   "execution_count": 106,
   "id": "ca9f73d0-6b14-468c-9d4e-de820db5e6e0",
   "metadata": {},
   "outputs": [
    {
     "name": "stderr",
     "output_type": "stream",
     "text": [
      "C:\\Anaconda3\\Lib\\site-packages\\sklearn\\base.py:493: UserWarning: X does not have valid feature names, but LinearRegression was fitted with feature names\n",
      "  warnings.warn(\n"
     ]
    },
    {
     "data": {
      "text/plain": [
       "(array([2.77675819]), array([3.15178246]), array([2.40173392]), 95)"
      ]
     },
     "execution_count": 106,
     "metadata": {},
     "output_type": "execute_result"
    }
   ],
   "source": [
    "get_log_estimate(3, 20, next_to_river=True)"
   ]
  },
  {
   "cell_type": "code",
   "execution_count": 146,
   "id": "67ca9cc9-0129-4d00-aa5d-f6a19056bf3e",
   "metadata": {},
   "outputs": [
    {
     "name": "stdout",
     "output_type": "stream",
     "text": [
      "the estimated property values is [826728.58924189]\n",
      "At 68% confidence the valuation range is\n",
      "USD [685000.]at the lower end to USD[997000.] at the high end.\n"
     ]
    },
    {
     "name": "stderr",
     "output_type": "stream",
     "text": [
      "C:\\Anaconda3\\Lib\\site-packages\\sklearn\\base.py:493: UserWarning: X does not have valid feature names, but LinearRegression was fitted with feature names\n",
      "  warnings.warn(\n"
     ]
    }
   ],
   "source": [
    "np.median(target)\n",
    "np.median(data['PRICE'])\n",
    "np.e**np.median(target)\n",
    "\n",
    "ZILLOW_MEDIAM_PRICE = 583.3\n",
    "SCALE_FACTOR = ZILLOW_MEDIAM_PRICE/ np.median(data['PRICE'])\n",
    "\n",
    "log_est, upper , lower, confi = get_log_estimate(nr_rooms=9, students_per_classroom = 15, next_to_river= False, high_confidence=False)\n",
    "# Convert today's dollar\n",
    "dollar_est = np.e**log_est*1000*SCALE_FACTOR\n",
    "dollar_hi = np.e**upper*1000*SCALE_FACTOR\n",
    "dollar_low = np.e**lower*1000*SCALE_FACTOR\n",
    "\n",
    "rounded_dollar= np.around(dollar_est, -3)\n",
    "rounded_dollar_hi = np.around(dollar_hi, -3)\n",
    "rounded_dollar_low = np.around(dollar_low, -3)\n",
    "\n",
    "print(f'the estimated property values is {dollar_est}')\n",
    "print(f'At {confi}% confidence the valuation range is')\n",
    "print(f'USD{rounded_dollar_low} at the lower end to USD{rounded_dollar_hi} at the high end.') "
   ]
  },
  {
   "cell_type": "code",
   "execution_count": 162,
   "id": "79c8d368-ec62-41f9-a099-bb5f44029d2a",
   "metadata": {},
   "outputs": [],
   "source": [
    "def get_dollar_estimate(rm, ptratio, chas=False, large_range=True):\n",
    "        \"\"\"Estimate the price of a property in Boston.\n",
    "        \n",
    "        Keyword arguments:\n",
    "        rm -- number of rooms in the property.\n",
    "        ptratio -- number of students per teacher in the classroom for the school in the area.\n",
    "        chas -- True if the property is next to the river, False otherwise.\n",
    "        large_range -- True for a 95% prediction interval, False for a 68% interval.\n",
    "        \n",
    "        \"\"\"\n",
    "        \n",
    "        \n",
    "        if rm < 1 or ptratio < 1:\n",
    "            print('That is unrealistic. Try again.')\n",
    "            return\n",
    "            \n",
    "        SCALE_FACTOR = ZILLOW_MEDIAM_PRICE/ np.median(data['PRICE'])\n",
    "\n",
    "        log_est, upper , lower, confi = get_log_estimate(nr_rooms=rm, students_per_classroom = ptratio, next_to_river= chas, high_confidence=large_range)\n",
    "        # Convert today's dollar\n",
    "        dollar_est = np.e**log_est*1000*SCALE_FACTOR\n",
    "        dollar_hi = np.e**upper*1000*SCALE_FACTOR\n",
    "        dollar_low = np.e**lower*1000*SCALE_FACTOR\n",
    "\n",
    "        rounded_dollar= np.around(dollar_est, -3)\n",
    "        rounded_dollar_hi = np.around(dollar_hi, -3)\n",
    "        rounded_dollar_low = np.around(dollar_low, -3)\n",
    "\n",
    "        print(f'the estimated property values is {dollar_est}')\n",
    "        print(f'At {confi}% confidence the valuation range is')\n",
    "        print(f'USD{rounded_dollar_low} at the lower end to USD{rounded_dollar_hi} at the high end.') "
   ]
  },
  {
   "cell_type": "code",
   "execution_count": 164,
   "id": "64ab5efa-66b8-4183-8a0d-ab6eea8fd66b",
   "metadata": {},
   "outputs": [
    {
     "name": "stdout",
     "output_type": "stream",
     "text": [
      "the estimated property values is [422141.68786146]\n",
      "At 95% confidence the valuation range is\n",
      "USD[290000.] at the lower end to USD[614000.] at the high end.\n"
     ]
    },
    {
     "name": "stderr",
     "output_type": "stream",
     "text": [
      "C:\\Anaconda3\\Lib\\site-packages\\sklearn\\base.py:493: UserWarning: X does not have valid feature names, but LinearRegression was fitted with feature names\n",
      "  warnings.warn(\n"
     ]
    }
   ],
   "source": [
    "get_dollar_estimate(2, 16)"
   ]
  },
  {
   "cell_type": "code",
   "execution_count": null,
   "id": "28956bb7-3877-4a64-8c41-249256eeafbe",
   "metadata": {},
   "outputs": [],
   "source": []
  }
 ],
 "metadata": {
  "kernelspec": {
   "display_name": "Python 3 (ipykernel)",
   "language": "python",
   "name": "python3"
  },
  "language_info": {
   "codemirror_mode": {
    "name": "ipython",
    "version": 3
   },
   "file_extension": ".py",
   "mimetype": "text/x-python",
   "name": "python",
   "nbconvert_exporter": "python",
   "pygments_lexer": "ipython3",
   "version": "3.12.4"
  }
 },
 "nbformat": 4,
 "nbformat_minor": 5
}
